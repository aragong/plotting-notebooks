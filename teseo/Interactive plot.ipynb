{
 "cells": [
  {
   "cell_type": "markdown",
   "metadata": {},
   "source": [
    "\n",
    "|![TESEO-logo](/home/aragong/repositories/plotting-notebooks/teseo/img/TESEO.png) | INTERACTIVE PLOT |\n",
    "|---------------------------------------------------------------------------------|------------------|"
   ]
  },
  {
   "cell_type": "code",
   "execution_count": 9,
   "metadata": {},
   "outputs": [],
   "source": [
    "from IPython.display import display\n",
    "import ipywidgets as widgets\n",
    "from ipywidgets import interactive_output, interact, fixed\n",
    "\n",
    "from lib import load_teseo_particles_txt, plot_teseo_particles, get_fixed_widgets, get_time_panel"
   ]
  },
  {
   "cell_type": "markdown",
   "metadata": {},
   "source": [
    "### 1. SET PATHS"
   ]
  },
  {
   "cell_type": "code",
   "execution_count": 10,
   "metadata": {},
   "outputs": [
    {
     "data": {
      "application/vnd.jupyter.widget-view+json": {
       "model_id": "b47d4aec70d44c93aea9ed5c5be2911e",
       "version_major": 2,
       "version_minor": 0
      },
      "text/plain": [
       "interactive(children=(Text(value='', description='Directory:', placeholder='Type something'), Select(descripti…"
      ]
     },
     "metadata": {},
     "output_type": "display_data"
    }
   ],
   "source": [
    "# /home/aragong/repositories/plotting-notebooks/mock/TESEO_TOOLS_459612f0 (mocked example)\n",
    "\n",
    "directory_box, pattern_box, dx_slider, psize_slider, grid_checkbox, gshhs_checkbox, pmarker_box, pcolor_box = get_fixed_widgets()\n",
    "\n",
    "@interact(directory_str=directory_box, pattern_str=pattern_box)\n",
    "def set_paths(directory_str, pattern_str):\n",
    "    \n",
    "    global directory\n",
    "    directory = directory_box.value\n",
    "    \n",
    "    global pattern\n",
    "    pattern = pattern_box.value\n",
    "    \n",
    "    if pattern == \"*_particles_*.txt\":\n",
    "        global df\n",
    "        df = load_teseo_particles_txt(pattern, directory)\n",
    "        print(df)\n",
    "\n",
    "    if pattern == \"*_properties_*.txt\":\n",
    "        print(\"TODO - read properties\")\n",
    "\n",
    "    if pattern == \"*_grid_*.txt\":\n",
    "        print(\"TODO - read grid\")\n",
    " \n",
    "\n"
   ]
  },
  {
   "cell_type": "markdown",
   "metadata": {},
   "source": [
    "### 2. PLOT INTERACTIVELY"
   ]
  },
  {
   "cell_type": "code",
   "execution_count": 11,
   "metadata": {},
   "outputs": [
    {
     "data": {
      "application/vnd.jupyter.widget-view+json": {
       "model_id": "23f8a90512ff4ffb9779331a7b26cc33",
       "version_major": 2,
       "version_minor": 0
      },
      "text/plain": [
       "Tab(children=(VBox(children=(HBox(children=(Checkbox(value=True, description='GSHHS', indent=False), Checkbox(…"
      ]
     },
     "metadata": {},
     "output_type": "display_data"
    },
    {
     "data": {
      "application/vnd.jupyter.widget-view+json": {
       "model_id": "6cc0d4a6e5de4bcd8ba8913b7649803d",
       "version_major": 2,
       "version_minor": 0
      },
      "text/plain": [
       "Output()"
      ]
     },
     "metadata": {},
     "output_type": "display_data"
    },
    {
     "data": {
      "application/vnd.jupyter.widget-view+json": {
       "model_id": "9df764f52970405bbf96997a768404c0",
       "version_major": 2,
       "version_minor": 0
      },
      "text/plain": [
       "HBox(children=(Play(value=1, description='Press play', interval=500, max=24, min=1), FloatSlider(value=1.0, de…"
      ]
     },
     "metadata": {},
     "output_type": "display_data"
    }
   ],
   "source": [
    "# Plot\n",
    "time_panel, time_slider, play = get_time_panel(df)\n",
    "\n",
    "tab = widgets.Tab()\n",
    "tab.children = [widgets.VBox([widgets.HBox([gshhs_checkbox, grid_checkbox]), dx_slider]), widgets.VBox([psize_slider, pmarker_box, pcolor_box])]\n",
    "tab._titles = {0:\"map properties\", 1:\"particle properties\"}\n",
    "    \n",
    "out = interactive_output(plot_teseo_particles, {\"df\": fixed(df), \"t\":time_slider, \"dx\":dx_slider, \"pmarker\":pmarker_box, \"pcolor\": pcolor_box, \"psize\": psize_slider, \"grid\":grid_checkbox, \"gshhs\": gshhs_checkbox})\n",
    "display(tab, out, time_panel)"
   ]
  }
 ],
 "metadata": {
  "interpreter": {
   "hash": "f7c28ecf8bdc20eb13fe99bc3017547f1557626e38bf347eea318c63e73a3eb7"
  },
  "kernelspec": {
   "display_name": "Python 3 (ipykernel)",
   "language": "python",
   "name": "python3"
  },
  "language_info": {
   "codemirror_mode": {
    "name": "ipython",
    "version": 3
   },
   "file_extension": ".py",
   "mimetype": "text/x-python",
   "name": "python",
   "nbconvert_exporter": "python",
   "pygments_lexer": "ipython3",
   "version": "3.10.4"
  }
 },
 "nbformat": 4,
 "nbformat_minor": 2
}
