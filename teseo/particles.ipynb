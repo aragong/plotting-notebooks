{
 "cells": [
  {
   "cell_type": "markdown",
   "metadata": {},
   "source": [
    "### 1. INITIALIZE THINGS"
   ]
  },
  {
   "cell_type": "code",
   "execution_count": 1,
   "metadata": {},
   "outputs": [],
   "source": [
    "from IPython.display import display\n",
    "import ipywidgets as widgets\n",
    "from ipywidgets import interactive_output, Layout, interact_manual, interact\n",
    "from pathlib import Path\n",
    "import numpy as np\n",
    "import matplotlib.pyplot as plt\n",
    "import pandas as pd\n",
    "from cartopy import crs, feature\n",
    "\n",
    "from utils import load_teseo_particles_txt\n",
    "\n",
    "# items_layout = Layout( width='auto')\n",
    "\n",
    "directory_box = widgets.Text(\n",
    "    value=\"/home/aragong/repositories/plotting-notebooks/mock/TESEO_TOOLS_459612f0\",\n",
    "    placeholder='Type something',\n",
    "    description='Directory:',\n",
    "    disabled=False\n",
    ")\n",
    "\n",
    "pattern_box = widgets.Select(\n",
    "    options=['*_particles_*.txt', '*_properties_*.txt', '*_grid_*.txt'],\n",
    "    description='File-pattern:',\n",
    "    disabled=False\n",
    ")\n",
    "# widgets.Text(\n",
    "#     placeholder='Type something',\n",
    "#     description='File-pattern:',\n",
    "#     disabled=False\n",
    "# )\n",
    "\n",
    "dx_slider = widgets.FloatSlider(\n",
    "    value=1.000,\n",
    "    min=0.000,\n",
    "    max=2.000,\n",
    "    step=0.02,\n",
    "    description='Zoom out:',\n",
    "    readout_format='.3f',\n",
    ")\n",
    "\n",
    "psize_slider =  widgets.IntSlider(\n",
    "    value=1,\n",
    "    min=1,\n",
    "    max=50,\n",
    "    step=1,\n",
    "    description='Particle size:',\n",
    ")\n",
    "\n",
    "grid_checkbox = widgets.Checkbox(\n",
    "    value=True,\n",
    "    description='Gridlines',\n",
    "    disabled=False,\n",
    "    indent=False\n",
    ")\n",
    "\n",
    "pmarker_box = widgets.Dropdown(\n",
    "    options=[(\"point\", \"o\"), (\"cross\", \"x\"), (\"square\", \"s\")],\n",
    "    value=\"o\",\n",
    "    description='Marker',\n",
    ")\n",
    "\n",
    "pcolor_box = widgets.Dropdown(\n",
    "    options=[\"blue\", \"red\", \"black\", \"green\", \"yellow\", \"brown\"],\n",
    "    value=\"blue\",\n",
    "    description='Color',\n",
    ")"
   ]
  },
  {
   "cell_type": "markdown",
   "metadata": {},
   "source": [
    "### 2. ADD DIRECTORY AND FILES-PATTERN\n",
    "\n",
    "```python\n",
    "directory = '/home/aragong/repositories/plotting-notebooks/mock/TESEO_TOOLS_459612f0'\n",
    "pattern = '*particles*.txt'\n",
    "grid = '/home/aragong/repositories/plotting-notebooks/mock/TESEO_TOOLS_459612f0/input/grid.dat'\n",
    "```"
   ]
  },
  {
   "cell_type": "code",
   "execution_count": 2,
   "metadata": {},
   "outputs": [
    {
     "data": {
      "application/vnd.jupyter.widget-view+json": {
       "model_id": "b9004fa0681a41c4817ac939dede06b1",
       "version_major": 2,
       "version_minor": 0
      },
      "text/plain": [
       "interactive(children=(Text(value='/home/aragong/repositories/plotting-notebooks/mock/TESEO_TOOLS_459612f0', de…"
      ]
     },
     "metadata": {},
     "output_type": "display_data"
    }
   ],
   "source": [
    "@interact(directory_str=directory_box, pattern_str=pattern_box)\n",
    "def set_paths(directory_str, pattern_str):\n",
    "    directory_box.value = directory_str\n",
    "    pattern_box.value = pattern_str"
   ]
  },
  {
   "cell_type": "markdown",
   "metadata": {},
   "source": [
    "### 3. LOAD FILES INTO DATAFRAME"
   ]
  },
  {
   "cell_type": "code",
   "execution_count": 3,
   "metadata": {},
   "outputs": [
    {
     "name": "stdout",
     "output_type": "stream",
     "text": [
      "Loading files in folder: '/home/aragong/repositories/plotting-notebooks/mock/TESEO_TOOLS_459612f0' with pattern: '*_particles_*.txt'\n"
     ]
    }
   ],
   "source": [
    "directory = directory_box.value\n",
    "pattern = pattern_box.value\n",
    "\n",
    "print(f\"Loading files in folder: '{directory}' with pattern: '{pattern}'\")\n",
    "\n",
    "if pattern_box.value == \"*_particles_*.txt\":\n",
    "    df = load_teseo_particles_txt(pattern, directory)\n",
    "if pattern_box.value == \"*_properties_*.txt\":\n",
    "    print(\"TODO - read properties\")\n",
    "if pattern_box.value == \"*_grid_*.txt\":\n",
    "    print(\"TODO - read grid\")"
   ]
  },
  {
   "cell_type": "code",
   "execution_count": 15,
   "metadata": {},
   "outputs": [],
   "source": [
    "\n",
    "play = widgets.Play(\n",
    "    value=df.time.unique().min(),\n",
    "    min=df.time.unique().min(),\n",
    "    max=df.time.unique().max(),\n",
    "    step=np.unique(np.diff(df.time.unique())),\n",
    "    interval=500,\n",
    "    description=\"Press play\",\n",
    "    disabled=False,\n",
    ")\n",
    "\n",
    "time_slider = widgets.FloatSlider(\n",
    "    value=df.time.unique().min(),\n",
    "    min=df.time.unique().min(),\n",
    "    max=df.time.unique().max(),\n",
    "    step=np.unique(np.diff(df.time.unique())),\n",
    "    description='Time (h):',\n",
    "    readout_format='.1f',\n",
    ")\n",
    "widgets.jslink((play, 'value'), (time_slider, 'value'))\n",
    "\n",
    "\n",
    "def plot_teseo_particles(t, dx, pmarker, pcolor, psize, grid,  gshhs=None, extent=None):\n",
    "    \n",
    "    fig = plt.figure(figsize=[15, 10])\n",
    "    ax = fig.add_subplot(1, 1, 1, projection=crs.PlateCarree())\n",
    "    \n",
    "    df_tmp = df.loc[df.time == t]\n",
    "\n",
    "    if dx is not None:\n",
    "        extent = [df_tmp.lon.min()-dx, df_tmp.lon.max()+dx, df_tmp.lat.min()-dx, df_tmp.lat.max()+dx]\n",
    "\n",
    "\n",
    "\n",
    "    if extent is not None:\n",
    "        ax.set_extent(extent, crs=crs.PlateCarree())\n",
    "    if gshhs:\n",
    "        ax.add_feature(feature.GSHHSFeature(scale=\"full\")) \n",
    "    \n",
    "    gl = ax.gridlines(crs=crs.PlateCarree(), draw_labels=True,\n",
    "                  linewidth=0.5, color='black', alpha=0.8, linestyle='--')\n",
    "    \n",
    "    gl.top_labels = False\n",
    "    gl.left_labels = False\n",
    "    \n",
    "    if grid is False:\n",
    "        gl.xlines = False\n",
    "        gl.ylines = False\n",
    "\n",
    "    ax.add_feature(feature.LAND)\n",
    "    ax.add_feature(feature.OCEAN)\n",
    "    ax.add_feature(feature.COASTLINE)\n",
    "    ax.add_feature(feature.BORDERS, linestyle=\":\")\n",
    "    ax.add_feature(feature.LAKES, alpha=0.5)\n",
    "    ax.add_feature(feature.RIVERS)\n",
    "    ax.scatter(df_tmp.lon, df_tmp.lat, marker=pmarker, c=pcolor, s=psize)\n",
    "\n",
    "    ax.set_adjustable('datalim')\n",
    "    "
   ]
  },
  {
   "cell_type": "markdown",
   "metadata": {},
   "source": [
    "### 4. ORGANIZE PANELS AND RUN VISUALIZATION"
   ]
  },
  {
   "cell_type": "code",
   "execution_count": 16,
   "metadata": {},
   "outputs": [
    {
     "data": {
      "application/vnd.jupyter.widget-view+json": {
       "model_id": "2be171b05ab5420e83e081f8f8097806",
       "version_major": 2,
       "version_minor": 0
      },
      "text/plain": [
       "Tab(children=(VBox(children=(Checkbox(value=True, description='Gridlines', indent=False), FloatSlider(value=0.…"
      ]
     },
     "metadata": {},
     "output_type": "display_data"
    },
    {
     "data": {
      "application/vnd.jupyter.widget-view+json": {
       "model_id": "3434e608b498494a9f5b411bd976fb48",
       "version_major": 2,
       "version_minor": 0
      },
      "text/plain": [
       "Output()"
      ]
     },
     "metadata": {},
     "output_type": "display_data"
    },
    {
     "data": {
      "application/vnd.jupyter.widget-view+json": {
       "model_id": "7af39387ee3d4809820f8a3563e26b99",
       "version_major": 2,
       "version_minor": 0
      },
      "text/plain": [
       "HBox(children=(Play(value=1, description='Press play', interval=500, max=24, min=1), FloatSlider(value=1.0, de…"
      ]
     },
     "metadata": {},
     "output_type": "display_data"
    }
   ],
   "source": [
    "time_panel = widgets.HBox([play, time_slider])\n",
    "# control_panel = widgets.HBox([widgets.VBox([grid_checkbox, dx_slider, psize_slider]), widgets.VBox([pmarker_box, pcolor_box])])\n",
    "tab = widgets.Tab()\n",
    "tab.children = [widgets.VBox([grid_checkbox, dx_slider]), widgets.VBox([psize_slider, pmarker_box, pcolor_box])]\n",
    "tab._titles = {0:\"map properties\", 1:\"particle properties\"}\n",
    "\n",
    "out = interactive_output(plot_teseo_particles, {\"t\":time_slider, \"dx\":dx_slider, \"pmarker\":pmarker_box, \"pcolor\": pcolor_box, \"psize\": psize_slider, \"grid\":grid_checkbox})\n",
    "display(tab, out, time_panel)"
   ]
  }
 ],
 "metadata": {
  "interpreter": {
   "hash": "f7c28ecf8bdc20eb13fe99bc3017547f1557626e38bf347eea318c63e73a3eb7"
  },
  "kernelspec": {
   "display_name": "Python 3 (ipykernel)",
   "language": "python",
   "name": "python3"
  },
  "language_info": {
   "codemirror_mode": {
    "name": "ipython",
    "version": 3
   },
   "file_extension": ".py",
   "mimetype": "text/x-python",
   "name": "python",
   "nbconvert_exporter": "python",
   "pygments_lexer": "ipython3",
   "version": "3.10.4"
  }
 },
 "nbformat": 4,
 "nbformat_minor": 2
}
