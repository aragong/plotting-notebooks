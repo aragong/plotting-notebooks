{
 "cells": [
  {
   "cell_type": "code",
   "execution_count": 25,
   "metadata": {},
   "outputs": [],
   "source": [
    "from IPython.display import display\n",
    "import ipywidgets as widgets\n",
    "from ipywidgets import interactive_output, Layout\n",
    "from pathlib import Path\n",
    "import numpy as np\n",
    "import matplotlib.pyplot as plt\n",
    "import pandas as pd\n",
    "from cartopy import crs, feature\n",
    "\n",
    "from utils import load_teseo_particles_txt\n",
    "\n",
    "items_layout = Layout( width='auto')\n"
   ]
  },
  {
   "cell_type": "code",
   "execution_count": 26,
   "metadata": {},
   "outputs": [],
   "source": [
    "directory = '/home/aragong/repositories/plotting-notebooks/mock/TESEO_TOOLS_459612f0'\n",
    "pattern = '*particles*.txt'\n",
    "grid = '/home/aragong/repositories/plotting-notebooks/mock/TESEO_TOOLS_459612f0/input/grid.dat'\n",
    "\n",
    "df = load_teseo_particles_txt(pattern, directory)\n"
   ]
  },
  {
   "cell_type": "code",
   "execution_count": 27,
   "metadata": {},
   "outputs": [],
   "source": [
    "play = widgets.Play(\n",
    "    value=df.time.unique().min(),\n",
    "    min=df.time.unique().min(),\n",
    "    max=df.time.unique().max(),\n",
    "    step=np.unique(np.diff(df.time.unique())),\n",
    "    interval=500,\n",
    "    description=\"Press play\",\n",
    "    disabled=False,\n",
    ")\n",
    "\n",
    "time_slider = widgets.FloatSlider(\n",
    "    value=df.time.unique().min(),\n",
    "    min=df.time.unique().min(),\n",
    "    max=df.time.unique().max(),\n",
    "    step=np.unique(np.diff(df.time.unique())),\n",
    "    description='Time (h):',\n",
    "    readout_format='.1f',\n",
    ")\n",
    "widgets.jslink((play, 'value'), (time_slider, 'value'))\n",
    "\n",
    "dx_slider = widgets.FloatSlider(\n",
    "    value=1.000,\n",
    "    min=0.000,\n",
    "    max=2.000,\n",
    "    step=0.02,\n",
    "    description='Zoom out:',\n",
    "    readout_format='.3f',\n",
    ")\n",
    "\n",
    "psize_slider =  widgets.IntSlider(\n",
    "    value=1,\n",
    "    min=1,\n",
    "    max=50,\n",
    "    step=1,\n",
    "    description='Particle size:',\n",
    ")\n",
    "\n",
    "grid_checkbox = widgets.Checkbox(\n",
    "    value=True,\n",
    "    description='Gridlines',\n",
    "    disabled=False,\n",
    "    indent=False\n",
    ")\n",
    "\n",
    "pmarker_box = widgets.Dropdown(\n",
    "    options=[(\"point\", \"o\"), (\"cross\", \"x\"), (\"square\", \"s\")],\n",
    "    value=\"o\",\n",
    "    description='Marker',\n",
    ")\n",
    "\n",
    "pcolor_box = widgets.Dropdown(\n",
    "    options=[\"blue\", \"red\", \"black\", \"green\", \"yellow\", \"brown\"],\n",
    "    value=\"blue\",\n",
    "    description='Color',\n",
    ")\n",
    "\n",
    "time_panel = widgets.HBox([play, time_slider])\n",
    "control_panel = widgets.HBox([widgets.VBox([grid_checkbox, dx_slider, psize_slider]), widgets.VBox([pmarker_box, pcolor_box])])\n",
    "tab = widgets.Tab()\n",
    "tab.children = [widgets.VBox([grid_checkbox, dx_slider]), widgets.VBox([psize_slider, pmarker_box, pcolor_box])]\n",
    "tab._titles = {0:\"map properties\", 1:\"particle properties\"}"
   ]
  },
  {
   "cell_type": "code",
   "execution_count": 28,
   "metadata": {},
   "outputs": [],
   "source": [
    "def plot_teseo_particles(t, dx, pmarker, pcolor, psize,  gshhs=None, extent=None):\n",
    "    \n",
    "    df_tmp = df.loc[df.time == t]\n",
    "\n",
    "    if dx is not None:\n",
    "        extent = [df_tmp.lon.min()-dx, df_tmp.lon.max()+dx, df_tmp.lat.min()-dx, df_tmp.lat.max()+dx]\n",
    "\n",
    "    fig = plt.figure(figsize=[16, 12])\n",
    "    ax = fig.add_subplot(1, 1, 1, projection=crs.PlateCarree())\n",
    "\n",
    "    if extent is not None:\n",
    "        ax.set_extent(extent, crs=crs.PlateCarree())\n",
    "    if gshhs:\n",
    "        ax.add_feature(feature.GSHHSFeature(scale=\"full\")) \n",
    "    \n",
    "    ax.add_feature(feature.LAND)\n",
    "    ax.add_feature(feature.OCEAN)\n",
    "    ax.add_feature(feature.COASTLINE)\n",
    "    ax.add_feature(feature.BORDERS, linestyle=\":\")\n",
    "    ax.add_feature(feature.LAKES, alpha=0.5)\n",
    "    ax.add_feature(feature.RIVERS)\n",
    "    ax.scatter(df_tmp.lon, df_tmp.lat, marker=pmarker, c=pcolor, s=psize)\n"
   ]
  },
  {
   "cell_type": "code",
   "execution_count": 29,
   "metadata": {},
   "outputs": [],
   "source": [
    "out = interactive_output(plot_teseo_particles, {\"t\":time_slider, \"dx\":dx_slider, \"pmarker\":pmarker_box, \"pcolor\": pcolor_box, \"psize\": psize_slider})"
   ]
  },
  {
   "cell_type": "code",
   "execution_count": 30,
   "metadata": {},
   "outputs": [
    {
     "data": {
      "application/vnd.jupyter.widget-view+json": {
       "model_id": "92d5594babd949a48098b825b4b66525",
       "version_major": 2,
       "version_minor": 0
      },
      "text/plain": [
       "Tab(children=(VBox(children=(Checkbox(value=True, description='Gridlines', indent=False), FloatSlider(value=1.…"
      ]
     },
     "metadata": {},
     "output_type": "display_data"
    },
    {
     "data": {
      "application/vnd.jupyter.widget-view+json": {
       "model_id": "b4635387987341fa93059719768f63c3",
       "version_major": 2,
       "version_minor": 0
      },
      "text/plain": [
       "Output(outputs=({'output_type': 'display_data', 'data': {'text/plain': '<Figure size 1152x864 with 1 Axes>', '…"
      ]
     },
     "metadata": {},
     "output_type": "display_data"
    },
    {
     "data": {
      "application/vnd.jupyter.widget-view+json": {
       "model_id": "a496befc8a4748ae9cc9dbdbdb298440",
       "version_major": 2,
       "version_minor": 0
      },
      "text/plain": [
       "HBox(children=(Play(value=1, description='Press play', interval=500, max=24, min=1), FloatSlider(value=1.0, de…"
      ]
     },
     "metadata": {},
     "output_type": "display_data"
    }
   ],
   "source": [
    "display(tab, out, time_panel)"
   ]
  }
 ],
 "metadata": {
  "interpreter": {
   "hash": "f7c28ecf8bdc20eb13fe99bc3017547f1557626e38bf347eea318c63e73a3eb7"
  },
  "kernelspec": {
   "display_name": "Python 3.10.4 ('plotting-notebooks')",
   "language": "python",
   "name": "python3"
  },
  "language_info": {
   "codemirror_mode": {
    "name": "ipython",
    "version": 3
   },
   "file_extension": ".py",
   "mimetype": "text/x-python",
   "name": "python",
   "nbconvert_exporter": "python",
   "pygments_lexer": "ipython3",
   "version": "3.10.4"
  }
 },
 "nbformat": 4,
 "nbformat_minor": 2
}
