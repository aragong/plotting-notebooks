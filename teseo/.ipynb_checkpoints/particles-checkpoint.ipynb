{
 "cells": [
  {
   "cell_type": "code",
   "execution_count": 1,
   "metadata": {},
   "outputs": [],
   "source": [
    "import ipywidgets as widgets\n",
    "from ipywidgets import HBox, VBox\n",
    "from pathlib import Path\n",
    "\n",
    "import matplotlib.pyplot as plt\n",
    "import pandas as pd\n",
    "from cartopy import crs, feature"
   ]
  },
  {
   "cell_type": "code",
   "execution_count": 2,
   "metadata": {},
   "outputs": [],
   "source": [
    "def read_inputs(directory, pattern, grid_path):\n",
    "    \n",
    "    if grid_path:\n",
    "        df = pd.read_csv(grid_path, sep=\" \", header=0, names=[\"lon\", \"lat\", \"depth\"])\n",
    "        extent = [df.lon.min(), df.lon.max(), df.lat.min(), df.lat.max()]\n",
    "    else:\n",
    "        extent = None\n",
    "    \n",
    "    files = [str(file) for file in Path(directory).glob(pattern)]\n",
    "\n",
    "    df = pd.DataFrame([])\n",
    "    for file in files:\n",
    "        df = pd.concat(\n",
    "        [\n",
    "            df,\n",
    "            pd.read_table(\n",
    "                file,\n",
    "                sep=\",\",\n",
    "                header=0,\n",
    "                encoding=\"iso-8859-1\",\n",
    "                skipinitialspace=True,\n",
    "                names=[\n",
    "                    \"time\",\n",
    "                    \"spill_id\",\n",
    "                    \"subspill_id\",\n",
    "                    \"lon\",\n",
    "                    \"lat\",\n",
    "                    \"depth\",\n",
    "                    \"status_index\",\n",
    "                ],\n",
    "            ),\n",
    "        ]\n",
    "    )\n",
    "    df = df.sort_values(\"time\")\n",
    "\n",
    "    return df, extent, files"
   ]
  },
  {
   "cell_type": "code",
   "execution_count": 3,
   "metadata": {},
   "outputs": [],
   "source": [
    "directory = '/home/aragong/repositories/plotting-notebooks/mock/TESEO_TOOLS_459612f0'\n",
    "pattern = '*particles*.txt'\n",
    "grid_path = '/home/aragong/repositories/plotting-notebooks/mock/TESEO_TOOLS_459612f0/input/grid.dat'\n",
    "coastline_path = '/home/aragong/repositories/plotting-notebooks/mock/TESEO_TOOLS_459612f0/input/grid.dat'\n",
    "\n",
    "\n",
    "df, extent, files = read_inputs(directory, pattern, grid_path)"
   ]
  },
  {
   "cell_type": "code",
   "execution_count": 4,
   "metadata": {},
   "outputs": [
    {
     "data": {
      "application/vnd.jupyter.widget-view+json": {
       "model_id": "e15c3b38db8d4ee0badac656da16235c",
       "version_major": 2,
       "version_minor": 0
      },
      "text/plain": [
       "interactive(children=(Dropdown(description='t', options=(1.0, 2.0, 3.0, 4.0, 5.0, 6.0, 7.0, 8.0, 9.0, 10.0, 11…"
      ]
     },
     "metadata": {},
     "output_type": "display_data"
    }
   ],
   "source": [
    "\n",
    "@widgets.interact(t=list(df.time.unique()), dx=(0.0, 1, 0.05), psize=(1,50,5), pcolor=[\"blue\", \"red\", \"black\"], pmarker=[\"o\", \"x\", \"^\", \"s\"])\n",
    "def plot_particles_txt(t, dx=0.02, grid=True, psize=10, pcolor=\"blue\", pmarker=\"o\"):\n",
    "    \n",
    "    df_tmp = df.loc[df.time == t]\n",
    "\n",
    "    fig = plt.figure(figsize=[10, 10])\n",
    "    ax = fig.add_subplot(1, 1, 1,  projection=crs.PlateCarree())\n",
    "    if dx is not None:\n",
    "        extent = [df_tmp.lon.min()-dx, df_tmp.lon.max()+dx, df_tmp.lat.min()-dx, df_tmp.lat.max()+dx]\n",
    "    if extent:\n",
    "        ax.set_extent(extent, crs=crs.PlateCarree())\n",
    "    ax.add_feature(feature.LAND)\n",
    "    ax.add_feature(feature.OCEAN)\n",
    "    ax.add_feature(feature.COASTLINE)\n",
    "    ax.add_feature(feature.BORDERS, linestyle=\":\")\n",
    "    ax.add_feature(feature.LAKES, alpha=0.5)\n",
    "    ax.add_feature(feature.RIVERS)\n",
    "    ax.scatter(df_tmp.lon, df_tmp.lat, s=psize, marker=pmarker, color=pcolor, transform=crs.PlateCarree())\n",
    "    ax.set_title(f\"time = {t}h\")\n",
    "    \n",
    "    gl = ax.gridlines(crs=crs.PlateCarree(), draw_labels=True,\n",
    "                  linewidth=1, color='black', alpha=0.5, linestyle='--')\n",
    "    gl.top_labels = False\n",
    "    gl.left_labels = False\n",
    "    \n",
    "    if not grid:\n",
    "        gl.xlines = False\n",
    "        gl.ylines = False\n",
    "\n",
    "    ax.set_adjustable('datalim')\n",
    "\n"
   ]
  },
  {
   "cell_type": "code",
   "execution_count": null,
   "metadata": {},
   "outputs": [],
   "source": []
  }
 ],
 "metadata": {
  "kernelspec": {
   "display_name": "Python 3 (ipykernel)",
   "language": "python",
   "name": "python3"
  },
  "language_info": {
   "codemirror_mode": {
    "name": "ipython",
    "version": 3
   },
   "file_extension": ".py",
   "mimetype": "text/x-python",
   "name": "python",
   "nbconvert_exporter": "python",
   "pygments_lexer": "ipython3",
   "version": "3.10.4"
  }
 },
 "nbformat": 4,
 "nbformat_minor": 2
}
